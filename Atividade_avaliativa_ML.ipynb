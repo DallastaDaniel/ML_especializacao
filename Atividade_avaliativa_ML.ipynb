{
  "cells": [
    {
      "cell_type": "markdown",
      "metadata": {
        "id": "3mRqbc9AsrzM"
      },
      "source": [
        "# **Atividade avaliativa**\n",
        "\n",
        "> **ESPECIALIZÇÃO EM ANÁLISE E CIÊNCIA DE DADOS | Univerisdade Franciscana (UFN)**\n",
        "\n",
        "**Módulo:** Machine Learning <br>\n",
        "**Instrutor:** Vinícius Rodrigues Oviedo <br>\n",
        "**Data de referência:** julho de 2024 <br>\n",
        "\n",
        "Instruções:\n",
        "- Entregar o arquivo final no moodle no formato `.ipynb`\n",
        "- Nomear arquivo no formato `nome_sobrenome.ipynb`\n",
        "\n",
        "# Alunos: Daniel Dallasta; Fernando Campagnolo\n",
        "Data: 30/07/2024\n"
      ]
    },
    {
      "cell_type": "markdown",
      "metadata": {
        "id": "CCK7-aFm2KJ9"
      },
      "source": [
        "## **Questão 1**\n",
        "\n",
        "Considere os seguintes contextos:\n",
        "\n",
        "1. Um estabelecimento destinado ao fornecimento de cafés do tipo especial e gourmet deseja prever a demanda (volume de vendas) dos seus produtos para a próxima quinzena, com base em dados históricos como `número de visitas na loja`, `número de visitas no site`, `preço unitário de cada produto`, `conversões para cada produto`, `vendas sem desconto`, `vendas com desconto`, `volume de vendas total`. A partir do modelo preditivo obtido, esse estabelecimento visa uma gestão de estoque mais eficiente.\n",
        "\n",
        "2. Uma instituição financeira deseja prever, por meio de técnicas de Machine Learning, transações fraudulentas na conta de seus clientes. O objetivo é utilizar tal análise preditiva para elaborar regras de negócio que promovam mais segurança aos usuários e permita a mitigação de riscos. Para isso, ela tem como base dados históricos, onde constam parâmetros como `ID da transação`, `valor da transação`, `localização`, `saldo na data da transação`, `limite de crédito`, `renda informada durante a última atualização de cadastro`, `limite de pix diário`, `transação supeita? (1/0) `.\n",
        "\n",
        "3.  Uma empresa de eletrônicos trabalha com venda de laptops e conta com um conjunto de características técnicas de cada produto contido em seu banco de dados (e.g., `processador`, `memória RAM`, `SSD`, `tamanho da tela`, `tipo de placa gráfica`, `preço`, `marca`, `sistema operacional`, entre outros). Por meio de Machine Learning, essa empresa deseja agrupar laptops com caterísticas similares, de modo que a permite identificar segmentos de mercado distintos, como laptops para jogos, laptops de uso profissional que requerem maior desempenho, laptops compactos e leves para mobilidade, entre outros.\n",
        "\n",
        "4. Um time de cientistas de dados está utilizando o algoritmo Decision Tree (Árvore de Decisão) para prever se um equipamento da linha de produção vai apresentar `falhas ou não`, com base em `dados dos sensores`, `padrões de uso do equipamento` e `histórico de manutenção`.\n",
        "\n",
        "5. Um empresa de *e-commerce* está utilizando modelos de Machine Learning para segmentar (agrupar) seus produtos em galpões de distribuição (armazenamento temporário) de acordo com a frequência que são comprados juntos e com a localidade. Assim, se consegue otimizar o tempo de de entrega e a gestão do inventário de produtos.\n",
        "\n",
        "Classifique cada contexto quanto tipo problema de Machine Learning:\n",
        "\n",
        "(  ) Clusterização (agrupamento) <br>\n",
        "(  ) Regressão <br>\n",
        "(  ) Classificação <br>"
      ]
    },
    {
      "cell_type": "markdown",
      "metadata": {
        "id": "NzlFxfqe9MXH"
      },
      "source": [
        "> Resolução:\n",
        "\n",
        "..."
      ]
    },
    {
      "cell_type": "markdown",
      "metadata": {
        "id": "QhkdXXKv8ywo"
      },
      "source": [
        "## **Questão 2**\n",
        "\n",
        "Na figura abaixo, temos os 3 tipos de problemas que buscamos resolver via Machine Learning.\n",
        "\n",
        "<img src=\"https://github.com/OviedoVR/ML_especializacao/blob/main/assets/problems-ml-charts.png?raw=true\" width=\"60%\"/>\n",
        "\n",
        "Diferencie, em poucas palavras, **aprendizado supervisionado** e **aprendizado não-supervisionado**.\n",
        "\n"
      ]
    },
    {
      "cell_type": "markdown",
      "metadata": {
        "id": "cWF8gwPp9GZJ"
      },
      "source": [
        "> Resolução:\n",
        "\n",
        "..."
      ]
    },
    {
      "cell_type": "markdown",
      "metadata": {
        "id": "t508-cqV9U1e"
      },
      "source": [
        "## **Questão 3**\n",
        "\n",
        "Um dos papeis do analista e do cientista de dados é traduzir o resultado de um **modelo preditivo** em **insights** acionáveis para o negócio. Nesse contexto, suponha  o seguinte tratamento de dados para a base `tips` disponível na biblioteca **seaborn** (blocos de código abaixo). Rode os códigos já disponíveis de maneira sequencial e, em seguida, obtenha um modelo de clusterizção, para responder a seguinte pergunta de negócio:\n",
        "\n",
        "- *Qual cluster costuma dar mais gorjeta (independente do valor da conta)? Fique à vontade para responder a partir de análise gráfica ou realizando operações e cálculos sobre o dataframe clusterizado.*\n",
        "\n",
        "> **Dicas:**\n",
        "\n",
        "- Utilize o método do cotovelo para selecionar o número de clusters ($k$)\n",
        "- Não esqueça de atribuir os clusters obtidos ao dataframe original.\n"
      ]
    },
    {
      "cell_type": "code",
      "execution_count": 3,
      "metadata": {
        "id": "ZbIj6LvwAmD9"
      },
      "outputs": [],
      "source": [
        "# Bibliotecas para manipualção de dados:\n",
        "import numpy as np # Biblioteca para manipulação de vetores e matrizes\n",
        "import pandas as pd # Biblioteca para manipulação de dataframes\n",
        "\n",
        "# Bibliotecas para visualização de dados:\n",
        "import matplotlib.pyplot as plt # Biblioteca para plotar gráficos\n",
        "import seaborn as sns # Biblioteca para plotar gráficos\n",
        "\n",
        "# Bibliotecas para modelagem (neste caso, clusterização com K-means):\n",
        "from sklearn.cluster import KMeans # Algoritmo de clusterização K-means\n"
      ]
    },
    {
      "cell_type": "code",
      "execution_count": 15,
      "metadata": {
        "colab": {
          "base_uri": "https://localhost:8080/",
          "height": 206
        },
        "id": "DEsVv0ZrA1k1",
        "outputId": "f959228c-efb6-4222-8f4b-064a1c64664f"
      },
      "outputs": [
        {
          "name": "stdout",
          "output_type": "stream",
          "text": [
            "Listagem dos dados!!!\n"
          ]
        },
        {
          "data": {
            "text/html": [
              "<div>\n",
              "<style scoped>\n",
              "    .dataframe tbody tr th:only-of-type {\n",
              "        vertical-align: middle;\n",
              "    }\n",
              "\n",
              "    .dataframe tbody tr th {\n",
              "        vertical-align: top;\n",
              "    }\n",
              "\n",
              "    .dataframe thead th {\n",
              "        text-align: right;\n",
              "    }\n",
              "</style>\n",
              "<table border=\"1\" class=\"dataframe\">\n",
              "  <thead>\n",
              "    <tr style=\"text-align: right;\">\n",
              "      <th></th>\n",
              "      <th>total_bill</th>\n",
              "      <th>tip</th>\n",
              "      <th>sex</th>\n",
              "      <th>smoker</th>\n",
              "      <th>day</th>\n",
              "      <th>time</th>\n",
              "      <th>size</th>\n",
              "    </tr>\n",
              "  </thead>\n",
              "  <tbody>\n",
              "    <tr>\n",
              "      <th>0</th>\n",
              "      <td>16.99</td>\n",
              "      <td>1.01</td>\n",
              "      <td>Female</td>\n",
              "      <td>No</td>\n",
              "      <td>Sun</td>\n",
              "      <td>Dinner</td>\n",
              "      <td>2</td>\n",
              "    </tr>\n",
              "    <tr>\n",
              "      <th>1</th>\n",
              "      <td>10.34</td>\n",
              "      <td>1.66</td>\n",
              "      <td>Male</td>\n",
              "      <td>No</td>\n",
              "      <td>Sun</td>\n",
              "      <td>Dinner</td>\n",
              "      <td>3</td>\n",
              "    </tr>\n",
              "    <tr>\n",
              "      <th>2</th>\n",
              "      <td>21.01</td>\n",
              "      <td>3.50</td>\n",
              "      <td>Male</td>\n",
              "      <td>No</td>\n",
              "      <td>Sun</td>\n",
              "      <td>Dinner</td>\n",
              "      <td>3</td>\n",
              "    </tr>\n",
              "    <tr>\n",
              "      <th>3</th>\n",
              "      <td>23.68</td>\n",
              "      <td>3.31</td>\n",
              "      <td>Male</td>\n",
              "      <td>No</td>\n",
              "      <td>Sun</td>\n",
              "      <td>Dinner</td>\n",
              "      <td>2</td>\n",
              "    </tr>\n",
              "    <tr>\n",
              "      <th>4</th>\n",
              "      <td>24.59</td>\n",
              "      <td>3.61</td>\n",
              "      <td>Female</td>\n",
              "      <td>No</td>\n",
              "      <td>Sun</td>\n",
              "      <td>Dinner</td>\n",
              "      <td>4</td>\n",
              "    </tr>\n",
              "    <tr>\n",
              "      <th>...</th>\n",
              "      <td>...</td>\n",
              "      <td>...</td>\n",
              "      <td>...</td>\n",
              "      <td>...</td>\n",
              "      <td>...</td>\n",
              "      <td>...</td>\n",
              "      <td>...</td>\n",
              "    </tr>\n",
              "    <tr>\n",
              "      <th>239</th>\n",
              "      <td>29.03</td>\n",
              "      <td>5.92</td>\n",
              "      <td>Male</td>\n",
              "      <td>No</td>\n",
              "      <td>Sat</td>\n",
              "      <td>Dinner</td>\n",
              "      <td>3</td>\n",
              "    </tr>\n",
              "    <tr>\n",
              "      <th>240</th>\n",
              "      <td>27.18</td>\n",
              "      <td>2.00</td>\n",
              "      <td>Female</td>\n",
              "      <td>Yes</td>\n",
              "      <td>Sat</td>\n",
              "      <td>Dinner</td>\n",
              "      <td>2</td>\n",
              "    </tr>\n",
              "    <tr>\n",
              "      <th>241</th>\n",
              "      <td>22.67</td>\n",
              "      <td>2.00</td>\n",
              "      <td>Male</td>\n",
              "      <td>Yes</td>\n",
              "      <td>Sat</td>\n",
              "      <td>Dinner</td>\n",
              "      <td>2</td>\n",
              "    </tr>\n",
              "    <tr>\n",
              "      <th>242</th>\n",
              "      <td>17.82</td>\n",
              "      <td>1.75</td>\n",
              "      <td>Male</td>\n",
              "      <td>No</td>\n",
              "      <td>Sat</td>\n",
              "      <td>Dinner</td>\n",
              "      <td>2</td>\n",
              "    </tr>\n",
              "    <tr>\n",
              "      <th>243</th>\n",
              "      <td>18.78</td>\n",
              "      <td>3.00</td>\n",
              "      <td>Female</td>\n",
              "      <td>No</td>\n",
              "      <td>Thur</td>\n",
              "      <td>Dinner</td>\n",
              "      <td>2</td>\n",
              "    </tr>\n",
              "  </tbody>\n",
              "</table>\n",
              "<p>244 rows × 7 columns</p>\n",
              "</div>"
            ],
            "text/plain": [
              "     total_bill   tip     sex smoker   day    time  size\n",
              "0         16.99  1.01  Female     No   Sun  Dinner     2\n",
              "1         10.34  1.66    Male     No   Sun  Dinner     3\n",
              "2         21.01  3.50    Male     No   Sun  Dinner     3\n",
              "3         23.68  3.31    Male     No   Sun  Dinner     2\n",
              "4         24.59  3.61  Female     No   Sun  Dinner     4\n",
              "..          ...   ...     ...    ...   ...     ...   ...\n",
              "239       29.03  5.92    Male     No   Sat  Dinner     3\n",
              "240       27.18  2.00  Female    Yes   Sat  Dinner     2\n",
              "241       22.67  2.00    Male    Yes   Sat  Dinner     2\n",
              "242       17.82  1.75    Male     No   Sat  Dinner     2\n",
              "243       18.78  3.00  Female     No  Thur  Dinner     2\n",
              "\n",
              "[244 rows x 7 columns]"
            ]
          },
          "execution_count": 15,
          "metadata": {},
          "output_type": "execute_result"
        }
      ],
      "source": [
        "# Carregando os conjunto de dados 'tips' e salvando em um datraframe denominado 'dados'.\n",
        "dados = sns.load_dataset('tips') # Carrega o conjunto de dados 'tips' da biblioteca seaborn\n",
        "\n",
        "# Visualizacao dos dados:\n",
        "print(\"Listagem dos dados!!!\")\n",
        "dados # Exibe o dataframe 'dados'\n"
      ]
    },
    {
      "cell_type": "markdown",
      "metadata": {
        "id": "QS6VbF7fmGNh"
      },
      "source": [
        "> **Dicionário de dados**\n",
        "\n",
        "* `total_bill`: valor total gasto por comanda\n",
        "* `tip`: gorjeta\n",
        "* `sex`: gênero do cliente (pagante)\n",
        "* `smoker`: cliente fumante ou não\n",
        "* `day`: dia da semana\n",
        "* `time`: almoço ou janta\n",
        "* `size`:  número de pessoas que compõem o grupo em uma refeição\n"
      ]
    },
    {
      "cell_type": "code",
      "execution_count": 18,
      "metadata": {
        "colab": {
          "base_uri": "https://localhost:8080/"
        },
        "id": "5c9SlNj9GYKr",
        "outputId": "03f4fd12-3f2c-4ce7-819a-d1adfb2dbd8e"
      },
      "outputs": [
        {
          "name": "stdout",
          "output_type": "stream",
          "text": [
            "Tamanho do dataframe!!!\n",
            "Linhas, Colunas: \n"
          ]
        },
        {
          "data": {
            "text/plain": [
              "(244, 7)"
            ]
          },
          "execution_count": 18,
          "metadata": {},
          "output_type": "execute_result"
        }
      ],
      "source": [
        "# Tamanho do dataframe (linhas, colunas):\n",
        "print(\"Tamanho do dataframe!!!\")\n",
        "print(\"Linhas, Colunas: \")\n",
        "dados.shape\n"
      ]
    },
    {
      "cell_type": "code",
      "execution_count": 20,
      "metadata": {
        "colab": {
          "base_uri": "https://localhost:8080/"
        },
        "id": "FHyW4GCGBDXV",
        "outputId": "d688214a-4e66-4106-8d66-9de22434d4a6"
      },
      "outputs": [
        {
          "name": "stdout",
          "output_type": "stream",
          "text": [
            "Dias da semana no dataset!!!\n",
            "Dias da semana: \n"
          ]
        },
        {
          "data": {
            "text/plain": [
              "['Sun', 'Sat', 'Thur', 'Fri']\n",
              "Categories (4, object): ['Thur', 'Fri', 'Sat', 'Sun']"
            ]
          },
          "execution_count": 20,
          "metadata": {},
          "output_type": "execute_result"
        }
      ],
      "source": [
        "# Dias da semana no dataset:\n",
        "print(\"Dias da semana no dataset!!!\")\n",
        "print(\"Dias da semana: \")\n",
        "dados['day'].unique()"
      ]
    },
    {
      "cell_type": "code",
      "execution_count": 21,
      "metadata": {
        "colab": {
          "base_uri": "https://localhost:8080/"
        },
        "id": "Vk-fNGTtCq0k",
        "outputId": "581a5dab-975e-4c5f-831f-19a1a816f0c2"
      },
      "outputs": [
        {
          "name": "stdout",
          "output_type": "stream",
          "text": [
            "Valores em `time` no dataset!!!\n",
            "Valores em `time`: \n"
          ]
        },
        {
          "data": {
            "text/plain": [
              "['Dinner', 'Lunch']\n",
              "Categories (2, object): ['Lunch', 'Dinner']"
            ]
          },
          "execution_count": 21,
          "metadata": {},
          "output_type": "execute_result"
        }
      ],
      "source": [
        "# Valores em `time` no dataset:\n",
        "print(\"Valores em `time` no dataset!!!\")\n",
        "print(\"Valores em `time`: \")\n",
        "dados['time'].unique()"
      ]
    },
    {
      "cell_type": "code",
      "execution_count": 23,
      "metadata": {
        "id": "FMmEHEJhCvrr"
      },
      "outputs": [
        {
          "name": "stdout",
          "output_type": "stream",
          "text": [
            "Criando uma nova coluna (1 se final de semana, 0 caso contrário)!!!\n",
            "Nova coluna criada: \n"
          ]
        }
      ],
      "source": [
        "# Criando uma nova coluna (1 se final de semana, 0 caso contrário):\n",
        "print(\"Criando uma nova coluna (1 se final de semana, 0 caso contrário)!!!\")\n",
        "dados['weekend'] = dados['day'].apply(lambda registro: 1 if registro in ['Sat', 'Sun'] else 0)\n",
        "print(\"Nova coluna criada: \")\n"
      ]
    },
    {
      "cell_type": "code",
      "execution_count": 25,
      "metadata": {
        "colab": {
          "base_uri": "https://localhost:8080/",
          "height": 112
        },
        "id": "PZ8v3fs_BJxW",
        "outputId": "68f573af-2f80-4f79-a249-d307a08a3aa0"
      },
      "outputs": [
        {
          "name": "stdout",
          "output_type": "stream",
          "text": [
            "Encoding (codificação) de variáveis categóricias!!!\n"
          ]
        },
        {
          "data": {
            "text/html": [
              "<div>\n",
              "<style scoped>\n",
              "    .dataframe tbody tr th:only-of-type {\n",
              "        vertical-align: middle;\n",
              "    }\n",
              "\n",
              "    .dataframe tbody tr th {\n",
              "        vertical-align: top;\n",
              "    }\n",
              "\n",
              "    .dataframe thead th {\n",
              "        text-align: right;\n",
              "    }\n",
              "</style>\n",
              "<table border=\"1\" class=\"dataframe\">\n",
              "  <thead>\n",
              "    <tr style=\"text-align: right;\">\n",
              "      <th></th>\n",
              "      <th>total_bill</th>\n",
              "      <th>tip</th>\n",
              "      <th>sex</th>\n",
              "      <th>smoker</th>\n",
              "      <th>day</th>\n",
              "      <th>time</th>\n",
              "      <th>size</th>\n",
              "      <th>weekend</th>\n",
              "    </tr>\n",
              "  </thead>\n",
              "  <tbody>\n",
              "    <tr>\n",
              "      <th>0</th>\n",
              "      <td>16.99</td>\n",
              "      <td>1.01</td>\n",
              "      <td>0</td>\n",
              "      <td>No</td>\n",
              "      <td>Sun</td>\n",
              "      <td>1</td>\n",
              "      <td>2</td>\n",
              "      <td>1</td>\n",
              "    </tr>\n",
              "    <tr>\n",
              "      <th>1</th>\n",
              "      <td>10.34</td>\n",
              "      <td>1.66</td>\n",
              "      <td>1</td>\n",
              "      <td>No</td>\n",
              "      <td>Sun</td>\n",
              "      <td>1</td>\n",
              "      <td>3</td>\n",
              "      <td>1</td>\n",
              "    </tr>\n",
              "  </tbody>\n",
              "</table>\n",
              "</div>"
            ],
            "text/plain": [
              "   total_bill   tip sex smoker  day time  size  weekend\n",
              "0       16.99  1.01   0     No  Sun    1     2        1\n",
              "1       10.34  1.66   1     No  Sun    1     3        1"
            ]
          },
          "execution_count": 25,
          "metadata": {},
          "output_type": "execute_result"
        }
      ],
      "source": [
        "# Encoding (codificação) de variáveis categóricias:\n",
        "print(\"Encoding (codificação) de variáveis categóricias!!!\")\n",
        "dados['time'] = dados['time'].replace('Lunch', 0).replace('Dinner', 1)\n",
        "dados['sex'] = dados['sex'].replace('Female', 0).replace('Male', 1)\n",
        "\n",
        "# Resultado:\n",
        "dados.head(2) # mostra as 2 primeiras linhas\n"
      ]
    },
    {
      "cell_type": "code",
      "execution_count": 26,
      "metadata": {
        "id": "3KQXiqe6GD_R"
      },
      "outputs": [
        {
          "name": "stdout",
          "output_type": "stream",
          "text": [
            "Copia do dataframe antes de tratar os dados!!!\n",
            "Copia do dataframe realizada!!!\n"
          ]
        }
      ],
      "source": [
        "# Copia do dataframe antes de tratar os dados:\n",
        "print(\"Copia do dataframe antes de tratar os dados!!!\")\n",
        "dados_originais = dados.copy()\n",
        "print(\"Copia do dataframe realizada!!!\")\n",
        "\n"
      ]
    },
    {
      "cell_type": "code",
      "execution_count": 27,
      "metadata": {
        "colab": {
          "base_uri": "https://localhost:8080/",
          "height": 206
        },
        "id": "4yV1a8VvDBn7",
        "outputId": "94a0ef97-b248-452c-d5cc-4a3f45ac72a7"
      },
      "outputs": [
        {
          "name": "stdout",
          "output_type": "stream",
          "text": [
            "Normalização das colunas numéricas!!!\n"
          ]
        },
        {
          "data": {
            "text/html": [
              "<div>\n",
              "<style scoped>\n",
              "    .dataframe tbody tr th:only-of-type {\n",
              "        vertical-align: middle;\n",
              "    }\n",
              "\n",
              "    .dataframe tbody tr th {\n",
              "        vertical-align: top;\n",
              "    }\n",
              "\n",
              "    .dataframe thead th {\n",
              "        text-align: right;\n",
              "    }\n",
              "</style>\n",
              "<table border=\"1\" class=\"dataframe\">\n",
              "  <thead>\n",
              "    <tr style=\"text-align: right;\">\n",
              "      <th></th>\n",
              "      <th>total_bill</th>\n",
              "      <th>tip</th>\n",
              "      <th>sex</th>\n",
              "      <th>smoker</th>\n",
              "      <th>day</th>\n",
              "      <th>time</th>\n",
              "      <th>size</th>\n",
              "      <th>weekend</th>\n",
              "    </tr>\n",
              "  </thead>\n",
              "  <tbody>\n",
              "    <tr>\n",
              "      <th>0</th>\n",
              "      <td>-0.314066</td>\n",
              "      <td>-1.436993</td>\n",
              "      <td>0</td>\n",
              "      <td>No</td>\n",
              "      <td>Sun</td>\n",
              "      <td>1</td>\n",
              "      <td>2</td>\n",
              "      <td>1</td>\n",
              "    </tr>\n",
              "    <tr>\n",
              "      <th>1</th>\n",
              "      <td>-1.061054</td>\n",
              "      <td>-0.967217</td>\n",
              "      <td>1</td>\n",
              "      <td>No</td>\n",
              "      <td>Sun</td>\n",
              "      <td>1</td>\n",
              "      <td>3</td>\n",
              "      <td>1</td>\n",
              "    </tr>\n",
              "    <tr>\n",
              "      <th>2</th>\n",
              "      <td>0.137497</td>\n",
              "      <td>0.362610</td>\n",
              "      <td>1</td>\n",
              "      <td>No</td>\n",
              "      <td>Sun</td>\n",
              "      <td>1</td>\n",
              "      <td>3</td>\n",
              "      <td>1</td>\n",
              "    </tr>\n",
              "    <tr>\n",
              "      <th>3</th>\n",
              "      <td>0.437416</td>\n",
              "      <td>0.225291</td>\n",
              "      <td>1</td>\n",
              "      <td>No</td>\n",
              "      <td>Sun</td>\n",
              "      <td>1</td>\n",
              "      <td>2</td>\n",
              "      <td>1</td>\n",
              "    </tr>\n",
              "    <tr>\n",
              "      <th>4</th>\n",
              "      <td>0.539635</td>\n",
              "      <td>0.442111</td>\n",
              "      <td>0</td>\n",
              "      <td>No</td>\n",
              "      <td>Sun</td>\n",
              "      <td>1</td>\n",
              "      <td>4</td>\n",
              "      <td>1</td>\n",
              "    </tr>\n",
              "  </tbody>\n",
              "</table>\n",
              "</div>"
            ],
            "text/plain": [
              "   total_bill       tip sex smoker  day time  size  weekend\n",
              "0   -0.314066 -1.436993   0     No  Sun    1     2        1\n",
              "1   -1.061054 -0.967217   1     No  Sun    1     3        1\n",
              "2    0.137497  0.362610   1     No  Sun    1     3        1\n",
              "3    0.437416  0.225291   1     No  Sun    1     2        1\n",
              "4    0.539635  0.442111   0     No  Sun    1     4        1"
            ]
          },
          "execution_count": 27,
          "metadata": {},
          "output_type": "execute_result"
        }
      ],
      "source": [
        "# Normalização das colunas numéricas:\n",
        "print(\"Normalização das colunas numéricas!!!\")\n",
        "\n",
        "media_total_bill = dados['total_bill'].mean() # Média da coluna 'total_bill'\n",
        "desviopadrao_total_bill = dados['total_bill'].std() # Desvio padrão da coluna 'total_bill'\n",
        "dados['total_bill'] = dados['total_bill'].apply(lambda registro: (registro - media_total_bill) / desviopadrao_total_bill ) # Normalização da coluna 'total_bill'\n",
        "\n",
        "media_tip = dados['tip'].mean() # Média da coluna 'tip'\n",
        "desviopadrao_tip = dados['tip'].std() # Desvio padrão da coluna 'tip'\n",
        "# Normalização da coluna 'tip'\n",
        "dados['tip'] = dados['tip'].apply(lambda registro: (registro - media_tip) / desviopadrao_tip )\n",
        "\n",
        "dados.head() # Exibe as 5 primeiras linhas do dataframe 'dados'\n"
      ]
    },
    {
      "cell_type": "markdown",
      "metadata": {
        "id": "EAcfh9L7hq4S"
      },
      "source": [
        "> **Modelagem**"
      ]
    },
    {
      "cell_type": "code",
      "execution_count": 28,
      "metadata": {
        "colab": {
          "base_uri": "https://localhost:8080/",
          "height": 206
        },
        "id": "gi8kyN5LDbNp",
        "outputId": "79e4a6a7-2815-43f8-ac15-49fb8d401ba5"
      },
      "outputs": [
        {
          "name": "stdout",
          "output_type": "stream",
          "text": [
            "Eliminando as coluna `day`e `smoker`!!!\n"
          ]
        },
        {
          "data": {
            "text/html": [
              "<div>\n",
              "<style scoped>\n",
              "    .dataframe tbody tr th:only-of-type {\n",
              "        vertical-align: middle;\n",
              "    }\n",
              "\n",
              "    .dataframe tbody tr th {\n",
              "        vertical-align: top;\n",
              "    }\n",
              "\n",
              "    .dataframe thead th {\n",
              "        text-align: right;\n",
              "    }\n",
              "</style>\n",
              "<table border=\"1\" class=\"dataframe\">\n",
              "  <thead>\n",
              "    <tr style=\"text-align: right;\">\n",
              "      <th></th>\n",
              "      <th>total_bill</th>\n",
              "      <th>tip</th>\n",
              "      <th>sex</th>\n",
              "      <th>time</th>\n",
              "      <th>size</th>\n",
              "      <th>weekend</th>\n",
              "    </tr>\n",
              "  </thead>\n",
              "  <tbody>\n",
              "    <tr>\n",
              "      <th>0</th>\n",
              "      <td>-0.314066</td>\n",
              "      <td>-1.436993</td>\n",
              "      <td>0</td>\n",
              "      <td>1</td>\n",
              "      <td>2</td>\n",
              "      <td>1</td>\n",
              "    </tr>\n",
              "    <tr>\n",
              "      <th>1</th>\n",
              "      <td>-1.061054</td>\n",
              "      <td>-0.967217</td>\n",
              "      <td>1</td>\n",
              "      <td>1</td>\n",
              "      <td>3</td>\n",
              "      <td>1</td>\n",
              "    </tr>\n",
              "    <tr>\n",
              "      <th>2</th>\n",
              "      <td>0.137497</td>\n",
              "      <td>0.362610</td>\n",
              "      <td>1</td>\n",
              "      <td>1</td>\n",
              "      <td>3</td>\n",
              "      <td>1</td>\n",
              "    </tr>\n",
              "    <tr>\n",
              "      <th>3</th>\n",
              "      <td>0.437416</td>\n",
              "      <td>0.225291</td>\n",
              "      <td>1</td>\n",
              "      <td>1</td>\n",
              "      <td>2</td>\n",
              "      <td>1</td>\n",
              "    </tr>\n",
              "    <tr>\n",
              "      <th>4</th>\n",
              "      <td>0.539635</td>\n",
              "      <td>0.442111</td>\n",
              "      <td>0</td>\n",
              "      <td>1</td>\n",
              "      <td>4</td>\n",
              "      <td>1</td>\n",
              "    </tr>\n",
              "  </tbody>\n",
              "</table>\n",
              "</div>"
            ],
            "text/plain": [
              "   total_bill       tip sex time  size  weekend\n",
              "0   -0.314066 -1.436993   0    1     2        1\n",
              "1   -1.061054 -0.967217   1    1     3        1\n",
              "2    0.137497  0.362610   1    1     3        1\n",
              "3    0.437416  0.225291   1    1     2        1\n",
              "4    0.539635  0.442111   0    1     4        1"
            ]
          },
          "execution_count": 28,
          "metadata": {},
          "output_type": "execute_result"
        }
      ],
      "source": [
        "# Eliminando as coluna `day`e `smoker`:\n",
        "print(\"Eliminando as coluna `day`e `smoker`!!!\")\n",
        "\n",
        "dados.drop(['day', 'smoker'], axis=1, inplace=True) # Elimina as colunas 'day' e 'smoker'\n",
        "dados.head()\n"
      ]
    },
    {
      "cell_type": "code",
      "execution_count": 30,
      "metadata": {
        "id": "9vF608zHg0vk"
      },
      "outputs": [
        {
          "name": "stdout",
          "output_type": "stream",
          "text": [
            "Seleção de k (método do cotovelo)!!!\n"
          ]
        },
        {
          "data": {
            "image/png": "[encoded data removed]",
            "text/plain": [
              "<Figure size 640x480 with 1 Axes>"
            ]
          },
          "metadata": {},
          "output_type": "display_data"
        }
      ],
      "source": [
        "# Seleção de k (método do cotovelo):\n",
        "\n",
        "print(\"Seleção de k (método do cotovelo)!!!\")\n",
        "\n",
        "# Lista para armazenar as inércias:\n",
        "inercias = []\n",
        "\n",
        "for k in range(1, 11): # Testa de 1 a 10 clusters\n",
        "    kmeans = KMeans(n_clusters=k) # Instancia o modelo K-means\n",
        "    kmeans.fit(dados) # Treina o modelo\n",
        "    inercias.append(kmeans.inertia_) # Armazena a inércia\n",
        "\n",
        "# Plotando o gráfico do método do cotovelo:\n",
        "plt.plot(range(1, 11), inercias) \n",
        "plt.xlabel('Número de clusters (k)')\n",
        "plt.ylabel('Inércia')\n",
        "plt.title('Método do Cotovelo')\n",
        "plt.show()\n",
        "\n"
      ]
    },
    {
      "cell_type": "code",
      "execution_count": 36,
      "metadata": {
        "id": "2E2nVXWFDi4j"
      },
      "outputs": [
        {
          "name": "stdout",
          "output_type": "stream",
          "text": [
            "Clusterizando os dados\n",
            "Visualização dos clusters!!!\n"
          ]
        },
        {
          "data": {
            "text/html": [
              "<div>\n",
              "<style scoped>\n",
              "    .dataframe tbody tr th:only-of-type {\n",
              "        vertical-align: middle;\n",
              "    }\n",
              "\n",
              "    .dataframe tbody tr th {\n",
              "        vertical-align: top;\n",
              "    }\n",
              "\n",
              "    .dataframe thead th {\n",
              "        text-align: right;\n",
              "    }\n",
              "</style>\n",
              "<table border=\"1\" class=\"dataframe\">\n",
              "  <thead>\n",
              "    <tr style=\"text-align: right;\">\n",
              "      <th></th>\n",
              "      <th>total_bill</th>\n",
              "      <th>tip</th>\n",
              "      <th>sex</th>\n",
              "      <th>time</th>\n",
              "      <th>size</th>\n",
              "      <th>weekend</th>\n",
              "      <th>cluster</th>\n",
              "    </tr>\n",
              "  </thead>\n",
              "  <tbody>\n",
              "    <tr>\n",
              "      <th>0</th>\n",
              "      <td>-0.314066</td>\n",
              "      <td>-1.436993</td>\n",
              "      <td>0</td>\n",
              "      <td>1</td>\n",
              "      <td>2</td>\n",
              "      <td>1</td>\n",
              "      <td>0</td>\n",
              "    </tr>\n",
              "    <tr>\n",
              "      <th>1</th>\n",
              "      <td>-1.061054</td>\n",
              "      <td>-0.967217</td>\n",
              "      <td>1</td>\n",
              "      <td>1</td>\n",
              "      <td>3</td>\n",
              "      <td>1</td>\n",
              "      <td>0</td>\n",
              "    </tr>\n",
              "    <tr>\n",
              "      <th>2</th>\n",
              "      <td>0.137497</td>\n",
              "      <td>0.362610</td>\n",
              "      <td>1</td>\n",
              "      <td>1</td>\n",
              "      <td>3</td>\n",
              "      <td>1</td>\n",
              "      <td>4</td>\n",
              "    </tr>\n",
              "    <tr>\n",
              "      <th>3</th>\n",
              "      <td>0.437416</td>\n",
              "      <td>0.225291</td>\n",
              "      <td>1</td>\n",
              "      <td>1</td>\n",
              "      <td>2</td>\n",
              "      <td>1</td>\n",
              "      <td>5</td>\n",
              "    </tr>\n",
              "    <tr>\n",
              "      <th>4</th>\n",
              "      <td>0.539635</td>\n",
              "      <td>0.442111</td>\n",
              "      <td>0</td>\n",
              "      <td>1</td>\n",
              "      <td>4</td>\n",
              "      <td>1</td>\n",
              "      <td>3</td>\n",
              "    </tr>\n",
              "  </tbody>\n",
              "</table>\n",
              "</div>"
            ],
            "text/plain": [
              "   total_bill       tip sex time  size  weekend  cluster\n",
              "0   -0.314066 -1.436993   0    1     2        1        0\n",
              "1   -1.061054 -0.967217   1    1     3        1        0\n",
              "2    0.137497  0.362610   1    1     3        1        4\n",
              "3    0.437416  0.225291   1    1     2        1        5\n",
              "4    0.539635  0.442111   0    1     4        1        3"
            ]
          },
          "execution_count": 36,
          "metadata": {},
          "output_type": "execute_result"
        }
      ],
      "source": [
        "# Clusterizando os dados:\n",
        "print(\"Clusterizando os dados\")\n",
        "kmeans = KMeans(n_clusters=k) # Instancia o modelo K-means\n",
        "kmeans.fit(dados) # Treina o modelo\n",
        "clusters = kmeans.labels_ # Recupera os clusters\n",
        "dados['cluster'] = clusters # Adiciona a coluna 'cluster' ao dataframe\n",
        "\n",
        "# Visualização dos clusters:\n",
        "print(\"Visualização dos clusters!!!\")\n",
        "dados.head() # Exibe as 5 primeiras linhas do dataframe 'dados'\n",
        "\n",
        "\n"
      ]
    },
    {
      "cell_type": "code",
      "execution_count": null,
      "metadata": {
        "id": "fht2EmlHitMp"
      },
      "outputs": [],
      "source": [
        "# ..."
      ]
    },
    {
      "cell_type": "markdown",
      "metadata": {
        "id": "KCUwn2CmHO14"
      },
      "source": [
        "> Resolução:\n",
        "\n",
        "..."
      ]
    },
    {
      "cell_type": "markdown",
      "metadata": {
        "id": "dHFORc6qJexw"
      },
      "source": [
        "## **Questão 4**\n",
        "\n",
        "Considere a figura abaixo. Nela, tem-se uma tarefa de classificação, onde se busca prever a senioridade de um profissional de acordo com o salário\n",
        "\n",
        "<img src=\"https://github.com/OviedoVR/ML_especializacao/blob/main/assets/balanceamento-ilustracao.png?raw=true\" width=\"75%\"/>\n",
        "\n",
        "Conforme observado, tem-se, nesse caso, duas classes:\n",
        "\n",
        "- Profissional **pleno**: 0\n",
        "- Profissional **sênior**: 1\n",
        "\n",
        "Sabendo que cada ponto é um profissional no conjunto de dados e levando em conta o número de observações para cada classe, é interessante realizarmos uma re-amostragem, onde o foco é balancear o dataset em relação às classes. Diante disso, qual ténica de balanceamento foi utilizada neste caso: **oversampling** or **undersampling**?"
      ]
    },
    {
      "cell_type": "markdown",
      "metadata": {
        "id": "QvlSif16OPu9"
      },
      "source": [
        "> Resolução:\n",
        "\n",
        "..."
      ]
    },
    {
      "cell_type": "markdown",
      "metadata": {
        "id": "7htCLW6OOg9d"
      },
      "source": [
        "## **Questão 5**\n",
        "\n",
        "Suponha que você está atuando em um projeto de dados onde o setor de marketing precisa estimar o investimento necessário para obter 600 cliques. Para isso, eles te forneceram dados históricos sobre campanhas passadas, conforme mostra o dicionário de dados abaixo:\n",
        "\n",
        "| Coluna            | Descrição                                   |\n",
        "|-------------------|---------------------------------------------|\n",
        "| objetivo_campanha | objetivo da campanha de marketing           |\n",
        "| visualizacoes     | total de visualizações obtidas nos anúncios |\n",
        "| investimento_brl  | investimento em tráfego pago (em R$)        |\n",
        "| cliques           | total de cliques obtidos nos anúncios       |\n",
        "\n",
        "\n",
        "<br>\n",
        "\n",
        "Utilize as colunas `cliques` e `investimento_brl` para treinar um modelo de regressão linear, onde  `cliques` será configurada como a variável preditora (**x**) e `investimento_brl` como variável resposta (**y**). Em outras palavras, deseja-se  estimar o investimento necessário (em R$) de acordo com a equação:\n",
        "\n",
        "\\begin{equation}\n",
        "  \\textrm{Investimento} = \\beta_0 + \\beta_1 \\times \\textrm{cliques}\n",
        "\\end{equation}\n",
        "\n",
        "Premissas:\n",
        "\n",
        "- O conjunto de dados não possui dados nulos/ausentes\n",
        "- Não é preciso tratar os *outliers*\n",
        "- Como só se tem apenas uma variável preditora (nas features), não é preciso normalizar os dados\n",
        "- As campanhas são representativas para o problema de negócio que se quer resolver (estimar recursos financeiros para decidir a viabilidade da campanha).\n",
        "\n",
        "Instruções:\n",
        "\n",
        "1. Utilize qualquer algoritmo de regressão da sua escolha (`LinearRegression`, `DecisionTreeRegressor`, `RandomForestRegressor`, `KNeighborsRegressor`, `GaussianNB`, etc.)\n",
        "2. Calcule o R² para os dados de teste\n",
        "3. Visualize as variáveis preditora e resposta por meio de um gráfico de dispersão. Você pode usar o seguinte gráfico da biblioteca **Seaborn**:\n",
        "\n",
        "```python\n",
        "import seaborn as sns\n",
        "\n",
        "sns.regplot(data=dados, x='VARIÁVEL PREDITORA', y='RESPOSTA')\n",
        "```"
      ]
    },
    {
      "cell_type": "markdown",
      "metadata": {
        "id": "Qjrx7-up9OIy"
      },
      "source": [
        "* Dados"
      ]
    },
    {
      "cell_type": "code",
      "execution_count": 13,
      "metadata": {
        "id": "qqUboEqE4BF0"
      },
      "outputs": [],
      "source": [
        "!wget -q 'https://raw.githubusercontent.com/OviedoVR/ML_especializacao/main/dados/performance_campanhas_mkt.csv' -O 'performance_campanhas_mkt.csv'"
      ]
    },
    {
      "cell_type": "markdown",
      "metadata": {
        "id": "olW-8gbp9P-B"
      },
      "source": [
        "* Bibliotecas"
      ]
    },
    {
      "cell_type": "code",
      "execution_count": 14,
      "metadata": {
        "id": "a9uDaV1yt4sD"
      },
      "outputs": [],
      "source": [
        "# Bibliotecas:\n",
        "from sklearn.model_selection import train_test_split\n",
        "from sklearn.preprocessing import StandardScaler\n",
        "from sklearn.linear_model import LinearRegression\n",
        "from sklearn.metrics import r2_score"
      ]
    },
    {
      "cell_type": "markdown",
      "metadata": {
        "id": "ehKFc8o09RaK"
      },
      "source": [
        "> Resolução:"
      ]
    },
    {
      "cell_type": "code",
      "execution_count": 15,
      "metadata": {
        "colab": {
          "base_uri": "https://localhost:8080/",
          "height": 206
        },
        "id": "aDG42i4ysrzC",
        "outputId": "4ae7b629-9999-4b4c-c128-59d592fa8f65"
      },
      "outputs": [
        {
          "data": {
            "application/vnd.google.colaboratory.intrinsic+json": {
              "summary": "{\n  \"name\": \"campanhas\",\n  \"rows\": 300,\n  \"fields\": [\n    {\n      \"column\": \"objetivo_campanha\",\n      \"properties\": {\n        \"dtype\": \"category\",\n        \"num_unique_values\": 2,\n        \"samples\": [\n          \"venda de produtos\",\n          \"reconhecimento da marca\"\n        ],\n        \"semantic_type\": \"\",\n        \"description\": \"\"\n      }\n    },\n    {\n      \"column\": \"visualizacoes\",\n      \"properties\": {\n        \"dtype\": \"number\",\n        \"std\": 993,\n        \"min\": 144,\n        \"max\": 6359,\n        \"num_unique_values\": 289,\n        \"samples\": [\n          3655,\n          6009\n        ],\n        \"semantic_type\": \"\",\n        \"description\": \"\"\n      }\n    },\n    {\n      \"column\": \"investimento_brl\",\n      \"properties\": {\n        \"dtype\": \"number\",\n        \"std\": 399.0282855403332,\n        \"min\": 644.427953969252,\n        \"max\": 2697.699612102944,\n        \"num_unique_values\": 300,\n        \"samples\": [\n          1304.0445441457327,\n          1379.6494105186955\n        ],\n        \"semantic_type\": \"\",\n        \"description\": \"\"\n      }\n    },\n    {\n      \"column\": \"cliques\",\n      \"properties\": {\n        \"dtype\": \"number\",\n        \"std\": 129,\n        \"min\": 50,\n        \"max\": 499,\n        \"num_unique_values\": 220,\n        \"samples\": [\n          316,\n          175\n        ],\n        \"semantic_type\": \"\",\n        \"description\": \"\"\n      }\n    }\n  ]\n}",
              "type": "dataframe",
              "variable_name": "campanhas"
            },
            "text/html": [
              "\n",
              "  <div id=\"df-334457c5-6f6e-4361-b3f1-a14f04ae4fc7\" class=\"colab-df-container\">\n",
              "    <div>\n",
              "<style scoped>\n",
              "    .dataframe tbody tr th:only-of-type {\n",
              "        vertical-align: middle;\n",
              "    }\n",
              "\n",
              "    .dataframe tbody tr th {\n",
              "        vertical-align: top;\n",
              "    }\n",
              "\n",
              "    .dataframe thead th {\n",
              "        text-align: right;\n",
              "    }\n",
              "</style>\n",
              "<table border=\"1\" class=\"dataframe\">\n",
              "  <thead>\n",
              "    <tr style=\"text-align: right;\">\n",
              "      <th></th>\n",
              "      <th>objetivo_campanha</th>\n",
              "      <th>visualizacoes</th>\n",
              "      <th>investimento_brl</th>\n",
              "      <th>cliques</th>\n",
              "    </tr>\n",
              "  </thead>\n",
              "  <tbody>\n",
              "    <tr>\n",
              "      <th>0</th>\n",
              "      <td>reconhecimento da marca</td>\n",
              "      <td>3831</td>\n",
              "      <td>1399.040605</td>\n",
              "      <td>222</td>\n",
              "    </tr>\n",
              "    <tr>\n",
              "      <th>1</th>\n",
              "      <td>reconhecimento da marca</td>\n",
              "      <td>4483</td>\n",
              "      <td>1485.281189</td>\n",
              "      <td>97</td>\n",
              "    </tr>\n",
              "    <tr>\n",
              "      <th>2</th>\n",
              "      <td>venda de produtos</td>\n",
              "      <td>1548</td>\n",
              "      <td>992.997598</td>\n",
              "      <td>167</td>\n",
              "    </tr>\n",
              "    <tr>\n",
              "      <th>3</th>\n",
              "      <td>reconhecimento da marca</td>\n",
              "      <td>3625</td>\n",
              "      <td>1577.446638</td>\n",
              "      <td>242</td>\n",
              "    </tr>\n",
              "    <tr>\n",
              "      <th>4</th>\n",
              "      <td>venda de produtos</td>\n",
              "      <td>3155</td>\n",
              "      <td>1849.035475</td>\n",
              "      <td>373</td>\n",
              "    </tr>\n",
              "  </tbody>\n",
              "</table>\n",
              "</div>\n",
              "    <div class=\"colab-df-buttons\">\n",
              "\n",
              "  <div class=\"colab-df-container\">\n",
              "    <button class=\"colab-df-convert\" onclick=\"convertToInteractive('df-334457c5-6f6e-4361-b3f1-a14f04ae4fc7')\"\n",
              "            title=\"Convert this dataframe to an interactive table.\"\n",
              "            style=\"display:none;\">\n",
              "\n",
              "  <svg xmlns=\"http://www.w3.org/2000/svg\" height=\"24px\" viewBox=\"0 -960 960 960\">\n",
              "    <path d=\"M120-120v-720h720v720H120Zm60-500h600v-160H180v160Zm220 220h160v-160H400v160Zm0 220h160v-160H400v160ZM180-400h160v-160H180v160Zm440 0h160v-160H620v160ZM180-180h160v-160H180v160Zm440 0h160v-160H620v160Z\"/>\n",
              "  </svg>\n",
              "    </button>\n",
              "\n",
              "  <style>\n",
              "    .colab-df-container {\n",
              "      display:flex;\n",
              "      gap: 12px;\n",
              "    }\n",
              "\n",
              "    .colab-df-convert {\n",
              "      background-color: #E8F0FE;\n",
              "      border: none;\n",
              "      border-radius: 50%;\n",
              "      cursor: pointer;\n",
              "      display: none;\n",
              "      fill: #1967D2;\n",
              "      height: 32px;\n",
              "      padding: 0 0 0 0;\n",
              "      width: 32px;\n",
              "    }\n",
              "\n",
              "    .colab-df-convert:hover {\n",
              "      background-color: #E2EBFA;\n",
              "      box-shadow: 0px 1px 2px rgba(60, 64, 67, 0.3), 0px 1px 3px 1px rgba(60, 64, 67, 0.15);\n",
              "      fill: #174EA6;\n",
              "    }\n",
              "\n",
              "    .colab-df-buttons div {\n",
              "      margin-bottom: 4px;\n",
              "    }\n",
              "\n",
              "    [theme=dark] .colab-df-convert {\n",
              "      background-color: #3B4455;\n",
              "      fill: #D2E3FC;\n",
              "    }\n",
              "\n",
              "    [theme=dark] .colab-df-convert:hover {\n",
              "      background-color: #434B5C;\n",
              "      box-shadow: 0px 1px 3px 1px rgba(0, 0, 0, 0.15);\n",
              "      filter: drop-shadow(0px 1px 2px rgba(0, 0, 0, 0.3));\n",
              "      fill: #FFFFFF;\n",
              "    }\n",
              "  </style>\n",
              "\n",
              "    <script>\n",
              "      const buttonEl =\n",
              "        document.querySelector('#df-334457c5-6f6e-4361-b3f1-a14f04ae4fc7 button.colab-df-convert');\n",
              "      buttonEl.style.display =\n",
              "        google.colab.kernel.accessAllowed ? 'block' : 'none';\n",
              "\n",
              "      async function convertToInteractive(key) {\n",
              "        const element = document.querySelector('#df-334457c5-6f6e-4361-b3f1-a14f04ae4fc7');\n",
              "        const dataTable =\n",
              "          await google.colab.kernel.invokeFunction('convertToInteractive',\n",
              "                                                    [key], {});\n",
              "        if (!dataTable) return;\n",
              "\n",
              "        const docLinkHtml = 'Like what you see? Visit the ' +\n",
              "          '<a target=\"_blank\" href=https://colab.research.google.com/notebooks/data_table.ipynb>data table notebook</a>'\n",
              "          + ' to learn more about interactive tables.';\n",
              "        element.innerHTML = '';\n",
              "        dataTable['output_type'] = 'display_data';\n",
              "        await google.colab.output.renderOutput(dataTable, element);\n",
              "        const docLink = document.createElement('div');\n",
              "        docLink.innerHTML = docLinkHtml;\n",
              "        element.appendChild(docLink);\n",
              "      }\n",
              "    </script>\n",
              "  </div>\n",
              "\n",
              "\n",
              "<div id=\"df-c373e73d-5916-45dd-9520-110a478cb30f\">\n",
              "  <button class=\"colab-df-quickchart\" onclick=\"quickchart('df-c373e73d-5916-45dd-9520-110a478cb30f')\"\n",
              "            title=\"Suggest charts\"\n",
              "            style=\"display:none;\">\n",
              "\n",
              "<svg xmlns=\"http://www.w3.org/2000/svg\" height=\"24px\"viewBox=\"0 0 24 24\"\n",
              "     width=\"24px\">\n",
              "    <g>\n",
              "        <path d=\"M19 3H5c-1.1 0-2 .9-2 2v14c0 1.1.9 2 2 2h14c1.1 0 2-.9 2-2V5c0-1.1-.9-2-2-2zM9 17H7v-7h2v7zm4 0h-2V7h2v10zm4 0h-2v-4h2v4z\"/>\n",
              "    </g>\n",
              "</svg>\n",
              "  </button>\n",
              "\n",
              "<style>\n",
              "  .colab-df-quickchart {\n",
              "      --bg-color: #E8F0FE;\n",
              "      --fill-color: #1967D2;\n",
              "      --hover-bg-color: #E2EBFA;\n",
              "      --hover-fill-color: #174EA6;\n",
              "      --disabled-fill-color: #AAA;\n",
              "      --disabled-bg-color: #DDD;\n",
              "  }\n",
              "\n",
              "  [theme=dark] .colab-df-quickchart {\n",
              "      --bg-color: #3B4455;\n",
              "      --fill-color: #D2E3FC;\n",
              "      --hover-bg-color: #434B5C;\n",
              "      --hover-fill-color: #FFFFFF;\n",
              "      --disabled-bg-color: #3B4455;\n",
              "      --disabled-fill-color: #666;\n",
              "  }\n",
              "\n",
              "  .colab-df-quickchart {\n",
              "    background-color: var(--bg-color);\n",
              "    border: none;\n",
              "    border-radius: 50%;\n",
              "    cursor: pointer;\n",
              "    display: none;\n",
              "    fill: var(--fill-color);\n",
              "    height: 32px;\n",
              "    padding: 0;\n",
              "    width: 32px;\n",
              "  }\n",
              "\n",
              "  .colab-df-quickchart:hover {\n",
              "    background-color: var(--hover-bg-color);\n",
              "    box-shadow: 0 1px 2px rgba(60, 64, 67, 0.3), 0 1px 3px 1px rgba(60, 64, 67, 0.15);\n",
              "    fill: var(--button-hover-fill-color);\n",
              "  }\n",
              "\n",
              "  .colab-df-quickchart-complete:disabled,\n",
              "  .colab-df-quickchart-complete:disabled:hover {\n",
              "    background-color: var(--disabled-bg-color);\n",
              "    fill: var(--disabled-fill-color);\n",
              "    box-shadow: none;\n",
              "  }\n",
              "\n",
              "  .colab-df-spinner {\n",
              "    border: 2px solid var(--fill-color);\n",
              "    border-color: transparent;\n",
              "    border-bottom-color: var(--fill-color);\n",
              "    animation:\n",
              "      spin 1s steps(1) infinite;\n",
              "  }\n",
              "\n",
              "  @keyframes spin {\n",
              "    0% {\n",
              "      border-color: transparent;\n",
              "      border-bottom-color: var(--fill-color);\n",
              "      border-left-color: var(--fill-color);\n",
              "    }\n",
              "    20% {\n",
              "      border-color: transparent;\n",
              "      border-left-color: var(--fill-color);\n",
              "      border-top-color: var(--fill-color);\n",
              "    }\n",
              "    30% {\n",
              "      border-color: transparent;\n",
              "      border-left-color: var(--fill-color);\n",
              "      border-top-color: var(--fill-color);\n",
              "      border-right-color: var(--fill-color);\n",
              "    }\n",
              "    40% {\n",
              "      border-color: transparent;\n",
              "      border-right-color: var(--fill-color);\n",
              "      border-top-color: var(--fill-color);\n",
              "    }\n",
              "    60% {\n",
              "      border-color: transparent;\n",
              "      border-right-color: var(--fill-color);\n",
              "    }\n",
              "    80% {\n",
              "      border-color: transparent;\n",
              "      border-right-color: var(--fill-color);\n",
              "      border-bottom-color: var(--fill-color);\n",
              "    }\n",
              "    90% {\n",
              "      border-color: transparent;\n",
              "      border-bottom-color: var(--fill-color);\n",
              "    }\n",
              "  }\n",
              "</style>\n",
              "\n",
              "  <script>\n",
              "    async function quickchart(key) {\n",
              "      const quickchartButtonEl =\n",
              "        document.querySelector('#' + key + ' button');\n",
              "      quickchartButtonEl.disabled = true;  // To prevent multiple clicks.\n",
              "      quickchartButtonEl.classList.add('colab-df-spinner');\n",
              "      try {\n",
              "        const charts = await google.colab.kernel.invokeFunction(\n",
              "            'suggestCharts', [key], {});\n",
              "      } catch (error) {\n",
              "        console.error('Error during call to suggestCharts:', error);\n",
              "      }\n",
              "      quickchartButtonEl.classList.remove('colab-df-spinner');\n",
              "      quickchartButtonEl.classList.add('colab-df-quickchart-complete');\n",
              "    }\n",
              "    (() => {\n",
              "      let quickchartButtonEl =\n",
              "        document.querySelector('#df-c373e73d-5916-45dd-9520-110a478cb30f button');\n",
              "      quickchartButtonEl.style.display =\n",
              "        google.colab.kernel.accessAllowed ? 'block' : 'none';\n",
              "    })();\n",
              "  </script>\n",
              "</div>\n",
              "\n",
              "    </div>\n",
              "  </div>\n"
            ],
            "text/plain": [
              "         objetivo_campanha  visualizacoes  investimento_brl  cliques\n",
              "0  reconhecimento da marca           3831       1399.040605      222\n",
              "1  reconhecimento da marca           4483       1485.281189       97\n",
              "2        venda de produtos           1548        992.997598      167\n",
              "3  reconhecimento da marca           3625       1577.446638      242\n",
              "4        venda de produtos           3155       1849.035475      373"
            ]
          },
          "execution_count": 15,
          "metadata": {},
          "output_type": "execute_result"
        }
      ],
      "source": [
        "campanhas = pd.read_csv('performance_campanhas_mkt.csv')\n",
        "campanhas.head()"
      ]
    },
    {
      "cell_type": "code",
      "execution_count": 16,
      "metadata": {
        "id": "U8_5YsfN4Sb0"
      },
      "outputs": [],
      "source": [
        "# tamanho do dataset:\n",
        "..."
      ]
    },
    {
      "cell_type": "code",
      "execution_count": 17,
      "metadata": {
        "id": "nJ4Pti8Y4dB7"
      },
      "outputs": [],
      "source": [
        "# tipo de dados:\n",
        "..."
      ]
    },
    {
      "cell_type": "code",
      "execution_count": 18,
      "metadata": {
        "id": "q_R-WEly4WlY"
      },
      "outputs": [],
      "source": [
        "# selecionar coluanas que serão utilizadas:\n",
        "..."
      ]
    },
    {
      "cell_type": "code",
      "execution_count": 19,
      "metadata": {
        "id": "0SVCNS0r4o7L"
      },
      "outputs": [],
      "source": [
        "# features:\n",
        "features = ...\n",
        "# resposta:\n",
        "resposta = ..."
      ]
    },
    {
      "cell_type": "code",
      "execution_count": 20,
      "metadata": {
        "id": "f6gHoP44urfi"
      },
      "outputs": [],
      "source": [
        "# dados de treino e teste:\n",
        "..."
      ]
    },
    {
      "cell_type": "code",
      "execution_count": 21,
      "metadata": {
        "id": "XWCrIaDn4wqj"
      },
      "outputs": [],
      "source": [
        "# treino do modelo:\n",
        "..."
      ]
    },
    {
      "cell_type": "code",
      "execution_count": 22,
      "metadata": {
        "id": "FiYCoOc14zJu"
      },
      "outputs": [],
      "source": [
        "# predições (dados de teste):\n",
        "...\n",
        "\n",
        "# cálculo do R² (usando y_teste e predições para os dados de teste):\n",
        "# exemplo: r2_score(y_test, pred_test)\n",
        "..."
      ]
    },
    {
      "cell_type": "code",
      "execution_count": 23,
      "metadata": {
        "id": "NNeLKx-AzRSA"
      },
      "outputs": [],
      "source": [
        "# Visualização:\n",
        "..."
      ]
    },
    {
      "cell_type": "markdown",
      "metadata": {
        "id": "ZnQXvo9X6VK0"
      },
      "source": [
        "> Qual a estimativa de investimento necessário para atignir 600 cliques?"
      ]
    },
    {
      "cell_type": "code",
      "execution_count": null,
      "metadata": {
        "id": "bxuTfzaq6U58"
      },
      "outputs": [],
      "source": [
        "cliques = ...\n",
        "cliques = np.array(cliques).reshape(1, -1)\n",
        "\n",
        "# predicação com base no número de cliques informado:\n",
        "..."
      ]
    },
    {
      "cell_type": "markdown",
      "metadata": {
        "id": "6zsKID9i7Jq6"
      },
      "source": [
        "Estima-se um investimento de **R$ Y** para obter **600** cliques."
      ]
    }
  ],
  "metadata": {
    "colab": {
      "provenance": [],
      "toc_visible": true
    },
    "kernelspec": {
      "display_name": "Python 3",
      "name": "python3"
    },
    "language_info": {
      "codemirror_mode": {
        "name": "ipython",
        "version": 3
      },
      "file_extension": ".py",
      "mimetype": "text/x-python",
      "name": "python",
      "nbconvert_exporter": "python",
      "pygments_lexer": "ipython3",
      "version": "3.10.13"
    }
  },
  "nbformat": 4,
  "nbformat_minor": 0
}
